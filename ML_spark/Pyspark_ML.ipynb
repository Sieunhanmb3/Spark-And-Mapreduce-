{
  "nbformat": 4,
  "nbformat_minor": 0,
  "metadata": {
    "colab": {
      "name": "Pyspark_ML",
      "provenance": [],
      "collapsed_sections": []
    },
    "kernelspec": {
      "display_name": "Python 3",
      "name": "python3"
    },
    "language_info": {
      "name": "python"
    }
  },
  "cells": [
    {
      "cell_type": "code",
      "metadata": {
        "colab": {
          "base_uri": "https://localhost:8080/"
        },
        "id": "8eBHxCO43LzT",
        "outputId": "adea98b5-846d-4293-e1f6-a8f9bfdcb6e8"
      },
      "source": [
        "!pip install pyspark"
      ],
      "execution_count": 1,
      "outputs": [
        {
          "output_type": "stream",
          "text": [
            "Requirement already satisfied: pyspark in /usr/local/lib/python3.7/dist-packages (3.1.1)\n",
            "Requirement already satisfied: py4j==0.10.9 in /usr/local/lib/python3.7/dist-packages (from pyspark) (0.10.9)\n"
          ],
          "name": "stdout"
        }
      ]
    },
    {
      "cell_type": "code",
      "metadata": {
        "id": "rMfEaUEgj5A-"
      },
      "source": [
        "from pyspark.sql import SparkSession\n",
        "spark = SparkSession.builder.appName('ML project').getOrCreate()"
      ],
      "execution_count": 2,
      "outputs": []
    },
    {
      "cell_type": "code",
      "metadata": {
        "colab": {
          "base_uri": "https://localhost:8080/"
        },
        "id": "QX_Nunf0kl7-",
        "outputId": "e7920b56-4b23-4c1e-b888-c61bb74e18f7"
      },
      "source": [
        "# load data \n",
        "df = spark.read.csv('./bank.csv', header = True, inferSchema = True)\n",
        "df.printSchema()"
      ],
      "execution_count": 3,
      "outputs": [
        {
          "output_type": "stream",
          "text": [
            "root\n",
            " |-- age: integer (nullable = true)\n",
            " |-- job: string (nullable = true)\n",
            " |-- marital: string (nullable = true)\n",
            " |-- education: string (nullable = true)\n",
            " |-- default: string (nullable = true)\n",
            " |-- balance: integer (nullable = true)\n",
            " |-- housing: string (nullable = true)\n",
            " |-- loan: string (nullable = true)\n",
            " |-- contact: string (nullable = true)\n",
            " |-- day: integer (nullable = true)\n",
            " |-- month: string (nullable = true)\n",
            " |-- duration: integer (nullable = true)\n",
            " |-- campaign: integer (nullable = true)\n",
            " |-- pdays: integer (nullable = true)\n",
            " |-- previous: integer (nullable = true)\n",
            " |-- poutcome: string (nullable = true)\n",
            " |-- deposit: string (nullable = true)\n",
            "\n"
          ],
          "name": "stdout"
        }
      ]
    },
    {
      "cell_type": "code",
      "metadata": {
        "id": "G4-iF40NA5zK",
        "colab": {
          "base_uri": "https://localhost:8080/"
        },
        "outputId": "7bc1fca5-40ca-46bf-fc27-73a31d9b458c"
      },
      "source": [
        "df.show()"
      ],
      "execution_count": 4,
      "outputs": [
        {
          "output_type": "stream",
          "text": [
            "+---+-----------+--------+---------+-------+-------+-------+----+-------+---+-----+--------+--------+-----+--------+--------+-------+\n",
            "|age|        job| marital|education|default|balance|housing|loan|contact|day|month|duration|campaign|pdays|previous|poutcome|deposit|\n",
            "+---+-----------+--------+---------+-------+-------+-------+----+-------+---+-----+--------+--------+-----+--------+--------+-------+\n",
            "| 59|     admin.| married|secondary|     no|   2343|    yes|  no|unknown|  5|  may|    1042|       1|   -1|       0| unknown|    yes|\n",
            "| 56|     admin.| married|secondary|     no|     45|     no|  no|unknown|  5|  may|    1467|       1|   -1|       0| unknown|    yes|\n",
            "| 41| technician| married|secondary|     no|   1270|    yes|  no|unknown|  5|  may|    1389|       1|   -1|       0| unknown|    yes|\n",
            "| 55|   services| married|secondary|     no|   2476|    yes|  no|unknown|  5|  may|     579|       1|   -1|       0| unknown|    yes|\n",
            "| 54|     admin.| married| tertiary|     no|    184|     no|  no|unknown|  5|  may|     673|       2|   -1|       0| unknown|    yes|\n",
            "| 42| management|  single| tertiary|     no|      0|    yes| yes|unknown|  5|  may|     562|       2|   -1|       0| unknown|    yes|\n",
            "| 56| management| married| tertiary|     no|    830|    yes| yes|unknown|  6|  may|    1201|       1|   -1|       0| unknown|    yes|\n",
            "| 60|    retired|divorced|secondary|     no|    545|    yes|  no|unknown|  6|  may|    1030|       1|   -1|       0| unknown|    yes|\n",
            "| 37| technician| married|secondary|     no|      1|    yes|  no|unknown|  6|  may|     608|       1|   -1|       0| unknown|    yes|\n",
            "| 28|   services|  single|secondary|     no|   5090|    yes|  no|unknown|  6|  may|    1297|       3|   -1|       0| unknown|    yes|\n",
            "| 38|     admin.|  single|secondary|     no|    100|    yes|  no|unknown|  7|  may|     786|       1|   -1|       0| unknown|    yes|\n",
            "| 30|blue-collar| married|secondary|     no|    309|    yes|  no|unknown|  7|  may|    1574|       2|   -1|       0| unknown|    yes|\n",
            "| 29| management| married| tertiary|     no|    199|    yes| yes|unknown|  7|  may|    1689|       4|   -1|       0| unknown|    yes|\n",
            "| 46|blue-collar|  single| tertiary|     no|    460|    yes|  no|unknown|  7|  may|    1102|       2|   -1|       0| unknown|    yes|\n",
            "| 31| technician|  single| tertiary|     no|    703|    yes|  no|unknown|  8|  may|     943|       2|   -1|       0| unknown|    yes|\n",
            "| 35| management|divorced| tertiary|     no|   3837|    yes|  no|unknown|  8|  may|    1084|       1|   -1|       0| unknown|    yes|\n",
            "| 32|blue-collar|  single|  primary|     no|    611|    yes|  no|unknown|  8|  may|     541|       3|   -1|       0| unknown|    yes|\n",
            "| 49|   services| married|secondary|     no|     -8|    yes|  no|unknown|  8|  may|    1119|       1|   -1|       0| unknown|    yes|\n",
            "| 41|     admin.| married|secondary|     no|     55|    yes|  no|unknown|  8|  may|    1120|       2|   -1|       0| unknown|    yes|\n",
            "| 49|     admin.|divorced|secondary|     no|    168|    yes| yes|unknown|  8|  may|     513|       1|   -1|       0| unknown|    yes|\n",
            "+---+-----------+--------+---------+-------+-------+-------+----+-------+---+-----+--------+--------+-----+--------+--------+-------+\n",
            "only showing top 20 rows\n",
            "\n"
          ],
          "name": "stdout"
        }
      ]
    },
    {
      "cell_type": "code",
      "metadata": {
        "id": "de87gxp6kqrA",
        "colab": {
          "base_uri": "https://localhost:8080/",
          "height": 550
        },
        "outputId": "c4154a03-b99a-4a6d-b4de-1d82cea07c25"
      },
      "source": [
        "# Show Dataset in DataFrame\n",
        "import pandas as pd\n",
        "pd.DataFrame(df.take(5), columns=df.columns).transpose()"
      ],
      "execution_count": 5,
      "outputs": [
        {
          "output_type": "execute_result",
          "data": {
            "text/html": [
              "<div>\n",
              "<style scoped>\n",
              "    .dataframe tbody tr th:only-of-type {\n",
              "        vertical-align: middle;\n",
              "    }\n",
              "\n",
              "    .dataframe tbody tr th {\n",
              "        vertical-align: top;\n",
              "    }\n",
              "\n",
              "    .dataframe thead th {\n",
              "        text-align: right;\n",
              "    }\n",
              "</style>\n",
              "<table border=\"1\" class=\"dataframe\">\n",
              "  <thead>\n",
              "    <tr style=\"text-align: right;\">\n",
              "      <th></th>\n",
              "      <th>0</th>\n",
              "      <th>1</th>\n",
              "      <th>2</th>\n",
              "      <th>3</th>\n",
              "      <th>4</th>\n",
              "    </tr>\n",
              "  </thead>\n",
              "  <tbody>\n",
              "    <tr>\n",
              "      <th>age</th>\n",
              "      <td>59</td>\n",
              "      <td>56</td>\n",
              "      <td>41</td>\n",
              "      <td>55</td>\n",
              "      <td>54</td>\n",
              "    </tr>\n",
              "    <tr>\n",
              "      <th>job</th>\n",
              "      <td>admin.</td>\n",
              "      <td>admin.</td>\n",
              "      <td>technician</td>\n",
              "      <td>services</td>\n",
              "      <td>admin.</td>\n",
              "    </tr>\n",
              "    <tr>\n",
              "      <th>marital</th>\n",
              "      <td>married</td>\n",
              "      <td>married</td>\n",
              "      <td>married</td>\n",
              "      <td>married</td>\n",
              "      <td>married</td>\n",
              "    </tr>\n",
              "    <tr>\n",
              "      <th>education</th>\n",
              "      <td>secondary</td>\n",
              "      <td>secondary</td>\n",
              "      <td>secondary</td>\n",
              "      <td>secondary</td>\n",
              "      <td>tertiary</td>\n",
              "    </tr>\n",
              "    <tr>\n",
              "      <th>default</th>\n",
              "      <td>no</td>\n",
              "      <td>no</td>\n",
              "      <td>no</td>\n",
              "      <td>no</td>\n",
              "      <td>no</td>\n",
              "    </tr>\n",
              "    <tr>\n",
              "      <th>balance</th>\n",
              "      <td>2343</td>\n",
              "      <td>45</td>\n",
              "      <td>1270</td>\n",
              "      <td>2476</td>\n",
              "      <td>184</td>\n",
              "    </tr>\n",
              "    <tr>\n",
              "      <th>housing</th>\n",
              "      <td>yes</td>\n",
              "      <td>no</td>\n",
              "      <td>yes</td>\n",
              "      <td>yes</td>\n",
              "      <td>no</td>\n",
              "    </tr>\n",
              "    <tr>\n",
              "      <th>loan</th>\n",
              "      <td>no</td>\n",
              "      <td>no</td>\n",
              "      <td>no</td>\n",
              "      <td>no</td>\n",
              "      <td>no</td>\n",
              "    </tr>\n",
              "    <tr>\n",
              "      <th>contact</th>\n",
              "      <td>unknown</td>\n",
              "      <td>unknown</td>\n",
              "      <td>unknown</td>\n",
              "      <td>unknown</td>\n",
              "      <td>unknown</td>\n",
              "    </tr>\n",
              "    <tr>\n",
              "      <th>day</th>\n",
              "      <td>5</td>\n",
              "      <td>5</td>\n",
              "      <td>5</td>\n",
              "      <td>5</td>\n",
              "      <td>5</td>\n",
              "    </tr>\n",
              "    <tr>\n",
              "      <th>month</th>\n",
              "      <td>may</td>\n",
              "      <td>may</td>\n",
              "      <td>may</td>\n",
              "      <td>may</td>\n",
              "      <td>may</td>\n",
              "    </tr>\n",
              "    <tr>\n",
              "      <th>duration</th>\n",
              "      <td>1042</td>\n",
              "      <td>1467</td>\n",
              "      <td>1389</td>\n",
              "      <td>579</td>\n",
              "      <td>673</td>\n",
              "    </tr>\n",
              "    <tr>\n",
              "      <th>campaign</th>\n",
              "      <td>1</td>\n",
              "      <td>1</td>\n",
              "      <td>1</td>\n",
              "      <td>1</td>\n",
              "      <td>2</td>\n",
              "    </tr>\n",
              "    <tr>\n",
              "      <th>pdays</th>\n",
              "      <td>-1</td>\n",
              "      <td>-1</td>\n",
              "      <td>-1</td>\n",
              "      <td>-1</td>\n",
              "      <td>-1</td>\n",
              "    </tr>\n",
              "    <tr>\n",
              "      <th>previous</th>\n",
              "      <td>0</td>\n",
              "      <td>0</td>\n",
              "      <td>0</td>\n",
              "      <td>0</td>\n",
              "      <td>0</td>\n",
              "    </tr>\n",
              "    <tr>\n",
              "      <th>poutcome</th>\n",
              "      <td>unknown</td>\n",
              "      <td>unknown</td>\n",
              "      <td>unknown</td>\n",
              "      <td>unknown</td>\n",
              "      <td>unknown</td>\n",
              "    </tr>\n",
              "    <tr>\n",
              "      <th>deposit</th>\n",
              "      <td>yes</td>\n",
              "      <td>yes</td>\n",
              "      <td>yes</td>\n",
              "      <td>yes</td>\n",
              "      <td>yes</td>\n",
              "    </tr>\n",
              "  </tbody>\n",
              "</table>\n",
              "</div>"
            ],
            "text/plain": [
              "                   0          1           2          3         4\n",
              "age               59         56          41         55        54\n",
              "job           admin.     admin.  technician   services    admin.\n",
              "marital      married    married     married    married   married\n",
              "education  secondary  secondary   secondary  secondary  tertiary\n",
              "default           no         no          no         no        no\n",
              "balance         2343         45        1270       2476       184\n",
              "housing          yes         no         yes        yes        no\n",
              "loan              no         no          no         no        no\n",
              "contact      unknown    unknown     unknown    unknown   unknown\n",
              "day                5          5           5          5         5\n",
              "month            may        may         may        may       may\n",
              "duration        1042       1467        1389        579       673\n",
              "campaign           1          1           1          1         2\n",
              "pdays             -1         -1          -1         -1        -1\n",
              "previous           0          0           0          0         0\n",
              "poutcome     unknown    unknown     unknown    unknown   unknown\n",
              "deposit          yes        yes         yes        yes       yes"
            ]
          },
          "metadata": {
            "tags": []
          },
          "execution_count": 5
        }
      ]
    },
    {
      "cell_type": "code",
      "metadata": {
        "id": "kGzNZkJbmdpd",
        "colab": {
          "base_uri": "https://localhost:8080/",
          "height": 106
        },
        "outputId": "e5cb2b1c-2174-4e38-d76b-4312ec52abca"
      },
      "source": [
        "# Data grouping by class \n",
        "class_name = df.columns[len(df.columns)-1]\n",
        "df.groupby(class_name).count().toPandas()"
      ],
      "execution_count": 6,
      "outputs": [
        {
          "output_type": "execute_result",
          "data": {
            "text/html": [
              "<div>\n",
              "<style scoped>\n",
              "    .dataframe tbody tr th:only-of-type {\n",
              "        vertical-align: middle;\n",
              "    }\n",
              "\n",
              "    .dataframe tbody tr th {\n",
              "        vertical-align: top;\n",
              "    }\n",
              "\n",
              "    .dataframe thead th {\n",
              "        text-align: right;\n",
              "    }\n",
              "</style>\n",
              "<table border=\"1\" class=\"dataframe\">\n",
              "  <thead>\n",
              "    <tr style=\"text-align: right;\">\n",
              "      <th></th>\n",
              "      <th>deposit</th>\n",
              "      <th>count</th>\n",
              "    </tr>\n",
              "  </thead>\n",
              "  <tbody>\n",
              "    <tr>\n",
              "      <th>0</th>\n",
              "      <td>no</td>\n",
              "      <td>5873</td>\n",
              "    </tr>\n",
              "    <tr>\n",
              "      <th>1</th>\n",
              "      <td>yes</td>\n",
              "      <td>5289</td>\n",
              "    </tr>\n",
              "  </tbody>\n",
              "</table>\n",
              "</div>"
            ],
            "text/plain": [
              "  deposit  count\n",
              "0      no   5873\n",
              "1     yes   5289"
            ]
          },
          "metadata": {
            "tags": []
          },
          "execution_count": 6
        }
      ]
    },
    {
      "cell_type": "code",
      "metadata": {
        "id": "pXDl0PEbDTPs"
      },
      "source": [
        "# convert string to numeric \n",
        "from pyspark.ml.feature import StringIndexer\n",
        "indexer = StringIndexer()\n",
        "indexer.setInputCol(class_name).setOutputCol(\"label\")\n",
        "df_new = indexer.fit(df).transform(df)\n"
      ],
      "execution_count": 7,
      "outputs": []
    },
    {
      "cell_type": "code",
      "metadata": {
        "id": "HY4BSSyRagXe"
      },
      "source": [
        "\n",
        "indexer.setInputCol(\"job\").setOutputCol(\"job_new\")\n",
        "df_new = indexer.fit(df_new).transform(df_new)\n",
        "indexer.setInputCol(\"marital\").setOutputCol(\"marital_new\")\n",
        "df_new = indexer.fit(df_new).transform(df_new)\n",
        "indexer.setInputCol(\"education\").setOutputCol(\"education_new\")\n",
        "df_new = indexer.fit(df_new).transform(df_new)\n",
        "indexer.setInputCol(\"default\").setOutputCol(\"default_new\")\n",
        "df_new = indexer.fit(df_new).transform(df_new)\n",
        "indexer.setInputCol(\"housing\").setOutputCol(\"housing_new\")\n",
        "df_new = indexer.fit(df_new).transform(df_new)\n",
        "indexer.setInputCol(\"loan\").setOutputCol(\"loan_new\")\n",
        "df_new = indexer.fit(df_new).transform(df_new)\n",
        "indexer.setInputCol(\"contact\").setOutputCol(\"contact_new\")\n",
        "df_new = indexer.fit(df_new).transform(df_new)\n",
        "indexer.setInputCol(\"poutcome\").setOutputCol(\"poutcome_new\")\n",
        "df_new = indexer.fit(df_new).transform(df_new)\n",
        "indexer.setInputCol(\"deposit\").setOutputCol(\"deposit_new\")\n",
        "df_new = indexer.fit(df_new).transform(df_new)\n",
        "indexer.setInputCol(\"month\").setOutputCol(\"month_new\")\n",
        "df_new = indexer.fit(df_new).transform(df_new)"
      ],
      "execution_count": 8,
      "outputs": []
    },
    {
      "cell_type": "code",
      "metadata": {
        "id": "YniicMYpEj6c",
        "colab": {
          "base_uri": "https://localhost:8080/"
        },
        "outputId": "317bd629-12e2-45d8-9594-30c605c28584"
      },
      "source": [
        "df_new.show()"
      ],
      "execution_count": 9,
      "outputs": [
        {
          "output_type": "stream",
          "text": [
            "+---+-----------+--------+---------+-------+-------+-------+----+-------+---+-----+--------+--------+-----+--------+--------+-------+-----+-------+-----------+-------------+-----------+-----------+--------+-----------+------------+-----------+---------+\n",
            "|age|        job| marital|education|default|balance|housing|loan|contact|day|month|duration|campaign|pdays|previous|poutcome|deposit|label|job_new|marital_new|education_new|default_new|housing_new|loan_new|contact_new|poutcome_new|deposit_new|month_new|\n",
            "+---+-----------+--------+---------+-------+-------+-------+----+-------+---+-----+--------+--------+-----+--------+--------+-------+-----+-------+-----------+-------------+-----------+-----------+--------+-----------+------------+-----------+---------+\n",
            "| 59|     admin.| married|secondary|     no|   2343|    yes|  no|unknown|  5|  may|    1042|       1|   -1|       0| unknown|    yes|  1.0|    3.0|        0.0|          0.0|        0.0|        1.0|     0.0|        1.0|         0.0|        1.0|      0.0|\n",
            "| 56|     admin.| married|secondary|     no|     45|     no|  no|unknown|  5|  may|    1467|       1|   -1|       0| unknown|    yes|  1.0|    3.0|        0.0|          0.0|        0.0|        0.0|     0.0|        1.0|         0.0|        1.0|      0.0|\n",
            "| 41| technician| married|secondary|     no|   1270|    yes|  no|unknown|  5|  may|    1389|       1|   -1|       0| unknown|    yes|  1.0|    2.0|        0.0|          0.0|        0.0|        1.0|     0.0|        1.0|         0.0|        1.0|      0.0|\n",
            "| 55|   services| married|secondary|     no|   2476|    yes|  no|unknown|  5|  may|     579|       1|   -1|       0| unknown|    yes|  1.0|    4.0|        0.0|          0.0|        0.0|        1.0|     0.0|        1.0|         0.0|        1.0|      0.0|\n",
            "| 54|     admin.| married| tertiary|     no|    184|     no|  no|unknown|  5|  may|     673|       2|   -1|       0| unknown|    yes|  1.0|    3.0|        0.0|          1.0|        0.0|        0.0|     0.0|        1.0|         0.0|        1.0|      0.0|\n",
            "| 42| management|  single| tertiary|     no|      0|    yes| yes|unknown|  5|  may|     562|       2|   -1|       0| unknown|    yes|  1.0|    0.0|        1.0|          1.0|        0.0|        1.0|     1.0|        1.0|         0.0|        1.0|      0.0|\n",
            "| 56| management| married| tertiary|     no|    830|    yes| yes|unknown|  6|  may|    1201|       1|   -1|       0| unknown|    yes|  1.0|    0.0|        0.0|          1.0|        0.0|        1.0|     1.0|        1.0|         0.0|        1.0|      0.0|\n",
            "| 60|    retired|divorced|secondary|     no|    545|    yes|  no|unknown|  6|  may|    1030|       1|   -1|       0| unknown|    yes|  1.0|    5.0|        2.0|          0.0|        0.0|        1.0|     0.0|        1.0|         0.0|        1.0|      0.0|\n",
            "| 37| technician| married|secondary|     no|      1|    yes|  no|unknown|  6|  may|     608|       1|   -1|       0| unknown|    yes|  1.0|    2.0|        0.0|          0.0|        0.0|        1.0|     0.0|        1.0|         0.0|        1.0|      0.0|\n",
            "| 28|   services|  single|secondary|     no|   5090|    yes|  no|unknown|  6|  may|    1297|       3|   -1|       0| unknown|    yes|  1.0|    4.0|        1.0|          0.0|        0.0|        1.0|     0.0|        1.0|         0.0|        1.0|      0.0|\n",
            "| 38|     admin.|  single|secondary|     no|    100|    yes|  no|unknown|  7|  may|     786|       1|   -1|       0| unknown|    yes|  1.0|    3.0|        1.0|          0.0|        0.0|        1.0|     0.0|        1.0|         0.0|        1.0|      0.0|\n",
            "| 30|blue-collar| married|secondary|     no|    309|    yes|  no|unknown|  7|  may|    1574|       2|   -1|       0| unknown|    yes|  1.0|    1.0|        0.0|          0.0|        0.0|        1.0|     0.0|        1.0|         0.0|        1.0|      0.0|\n",
            "| 29| management| married| tertiary|     no|    199|    yes| yes|unknown|  7|  may|    1689|       4|   -1|       0| unknown|    yes|  1.0|    0.0|        0.0|          1.0|        0.0|        1.0|     1.0|        1.0|         0.0|        1.0|      0.0|\n",
            "| 46|blue-collar|  single| tertiary|     no|    460|    yes|  no|unknown|  7|  may|    1102|       2|   -1|       0| unknown|    yes|  1.0|    1.0|        1.0|          1.0|        0.0|        1.0|     0.0|        1.0|         0.0|        1.0|      0.0|\n",
            "| 31| technician|  single| tertiary|     no|    703|    yes|  no|unknown|  8|  may|     943|       2|   -1|       0| unknown|    yes|  1.0|    2.0|        1.0|          1.0|        0.0|        1.0|     0.0|        1.0|         0.0|        1.0|      0.0|\n",
            "| 35| management|divorced| tertiary|     no|   3837|    yes|  no|unknown|  8|  may|    1084|       1|   -1|       0| unknown|    yes|  1.0|    0.0|        2.0|          1.0|        0.0|        1.0|     0.0|        1.0|         0.0|        1.0|      0.0|\n",
            "| 32|blue-collar|  single|  primary|     no|    611|    yes|  no|unknown|  8|  may|     541|       3|   -1|       0| unknown|    yes|  1.0|    1.0|        1.0|          2.0|        0.0|        1.0|     0.0|        1.0|         0.0|        1.0|      0.0|\n",
            "| 49|   services| married|secondary|     no|     -8|    yes|  no|unknown|  8|  may|    1119|       1|   -1|       0| unknown|    yes|  1.0|    4.0|        0.0|          0.0|        0.0|        1.0|     0.0|        1.0|         0.0|        1.0|      0.0|\n",
            "| 41|     admin.| married|secondary|     no|     55|    yes|  no|unknown|  8|  may|    1120|       2|   -1|       0| unknown|    yes|  1.0|    3.0|        0.0|          0.0|        0.0|        1.0|     0.0|        1.0|         0.0|        1.0|      0.0|\n",
            "| 49|     admin.|divorced|secondary|     no|    168|    yes| yes|unknown|  8|  may|     513|       1|   -1|       0| unknown|    yes|  1.0|    3.0|        2.0|          0.0|        0.0|        1.0|     1.0|        1.0|         0.0|        1.0|      0.0|\n",
            "+---+-----------+--------+---------+-------+-------+-------+----+-------+---+-----+--------+--------+-----+--------+--------+-------+-----+-------+-----------+-------------+-----------+-----------+--------+-----------+------------+-----------+---------+\n",
            "only showing top 20 rows\n",
            "\n"
          ],
          "name": "stdout"
        }
      ]
    },
    {
      "cell_type": "code",
      "metadata": {
        "id": "YZM3tjtfoURi"
      },
      "source": [
        "# features and class \n",
        "class_name = 'label'\n",
        "feature_names = ['job_new','marital_new','marital_new','default_new','housing_new','loan_new','contact_new','poutcome_new','deposit_new','month_new','balance','day','duration','campaign','pdays','previous']\n"
      ],
      "execution_count": 11,
      "outputs": []
    },
    {
      "cell_type": "code",
      "metadata": {
        "id": "ghq-y03buNuZ"
      },
      "source": [
        "from pyspark.ml.feature import VectorAssembler\n",
        "\n",
        "assembler = VectorAssembler()\n",
        "assembler.setInputCols(feature_names).setOutputCol('features')\n",
        "\n",
        "transformed_data = assembler.transform(df_new)"
      ],
      "execution_count": 12,
      "outputs": []
    },
    {
      "cell_type": "code",
      "metadata": {
        "colab": {
          "base_uri": "https://localhost:8080/"
        },
        "id": "P955k-7Pu00v",
        "outputId": "9ad8c910-46a7-4065-c687-b217b5734c3b"
      },
      "source": [
        "transformed_data.show()"
      ],
      "execution_count": 13,
      "outputs": [
        {
          "output_type": "stream",
          "text": [
            "+---+-----------+--------+---------+-------+-------+-------+----+-------+---+-----+--------+--------+-----+--------+--------+-------+-----+-------+-----------+-------------+-----------+-----------+--------+-----------+------------+-----------+---------+--------------------+\n",
            "|age|        job| marital|education|default|balance|housing|loan|contact|day|month|duration|campaign|pdays|previous|poutcome|deposit|label|job_new|marital_new|education_new|default_new|housing_new|loan_new|contact_new|poutcome_new|deposit_new|month_new|            features|\n",
            "+---+-----------+--------+---------+-------+-------+-------+----+-------+---+-----+--------+--------+-----+--------+--------+-------+-----+-------+-----------+-------------+-----------+-----------+--------+-----------+------------+-----------+---------+--------------------+\n",
            "| 59|     admin.| married|secondary|     no|   2343|    yes|  no|unknown|  5|  may|    1042|       1|   -1|       0| unknown|    yes|  1.0|    3.0|        0.0|          0.0|        0.0|        1.0|     0.0|        1.0|         0.0|        1.0|      0.0|(16,[0,4,6,8,10,1...|\n",
            "| 56|     admin.| married|secondary|     no|     45|     no|  no|unknown|  5|  may|    1467|       1|   -1|       0| unknown|    yes|  1.0|    3.0|        0.0|          0.0|        0.0|        0.0|     0.0|        1.0|         0.0|        1.0|      0.0|(16,[0,6,8,10,11,...|\n",
            "| 41| technician| married|secondary|     no|   1270|    yes|  no|unknown|  5|  may|    1389|       1|   -1|       0| unknown|    yes|  1.0|    2.0|        0.0|          0.0|        0.0|        1.0|     0.0|        1.0|         0.0|        1.0|      0.0|(16,[0,4,6,8,10,1...|\n",
            "| 55|   services| married|secondary|     no|   2476|    yes|  no|unknown|  5|  may|     579|       1|   -1|       0| unknown|    yes|  1.0|    4.0|        0.0|          0.0|        0.0|        1.0|     0.0|        1.0|         0.0|        1.0|      0.0|(16,[0,4,6,8,10,1...|\n",
            "| 54|     admin.| married| tertiary|     no|    184|     no|  no|unknown|  5|  may|     673|       2|   -1|       0| unknown|    yes|  1.0|    3.0|        0.0|          1.0|        0.0|        0.0|     0.0|        1.0|         0.0|        1.0|      0.0|(16,[0,6,8,10,11,...|\n",
            "| 42| management|  single| tertiary|     no|      0|    yes| yes|unknown|  5|  may|     562|       2|   -1|       0| unknown|    yes|  1.0|    0.0|        1.0|          1.0|        0.0|        1.0|     1.0|        1.0|         0.0|        1.0|      0.0|[0.0,1.0,1.0,0.0,...|\n",
            "| 56| management| married| tertiary|     no|    830|    yes| yes|unknown|  6|  may|    1201|       1|   -1|       0| unknown|    yes|  1.0|    0.0|        0.0|          1.0|        0.0|        1.0|     1.0|        1.0|         0.0|        1.0|      0.0|(16,[4,5,6,8,10,1...|\n",
            "| 60|    retired|divorced|secondary|     no|    545|    yes|  no|unknown|  6|  may|    1030|       1|   -1|       0| unknown|    yes|  1.0|    5.0|        2.0|          0.0|        0.0|        1.0|     0.0|        1.0|         0.0|        1.0|      0.0|[5.0,2.0,2.0,0.0,...|\n",
            "| 37| technician| married|secondary|     no|      1|    yes|  no|unknown|  6|  may|     608|       1|   -1|       0| unknown|    yes|  1.0|    2.0|        0.0|          0.0|        0.0|        1.0|     0.0|        1.0|         0.0|        1.0|      0.0|(16,[0,4,6,8,10,1...|\n",
            "| 28|   services|  single|secondary|     no|   5090|    yes|  no|unknown|  6|  may|    1297|       3|   -1|       0| unknown|    yes|  1.0|    4.0|        1.0|          0.0|        0.0|        1.0|     0.0|        1.0|         0.0|        1.0|      0.0|[4.0,1.0,1.0,0.0,...|\n",
            "| 38|     admin.|  single|secondary|     no|    100|    yes|  no|unknown|  7|  may|     786|       1|   -1|       0| unknown|    yes|  1.0|    3.0|        1.0|          0.0|        0.0|        1.0|     0.0|        1.0|         0.0|        1.0|      0.0|[3.0,1.0,1.0,0.0,...|\n",
            "| 30|blue-collar| married|secondary|     no|    309|    yes|  no|unknown|  7|  may|    1574|       2|   -1|       0| unknown|    yes|  1.0|    1.0|        0.0|          0.0|        0.0|        1.0|     0.0|        1.0|         0.0|        1.0|      0.0|(16,[0,4,6,8,10,1...|\n",
            "| 29| management| married| tertiary|     no|    199|    yes| yes|unknown|  7|  may|    1689|       4|   -1|       0| unknown|    yes|  1.0|    0.0|        0.0|          1.0|        0.0|        1.0|     1.0|        1.0|         0.0|        1.0|      0.0|(16,[4,5,6,8,10,1...|\n",
            "| 46|blue-collar|  single| tertiary|     no|    460|    yes|  no|unknown|  7|  may|    1102|       2|   -1|       0| unknown|    yes|  1.0|    1.0|        1.0|          1.0|        0.0|        1.0|     0.0|        1.0|         0.0|        1.0|      0.0|[1.0,1.0,1.0,0.0,...|\n",
            "| 31| technician|  single| tertiary|     no|    703|    yes|  no|unknown|  8|  may|     943|       2|   -1|       0| unknown|    yes|  1.0|    2.0|        1.0|          1.0|        0.0|        1.0|     0.0|        1.0|         0.0|        1.0|      0.0|[2.0,1.0,1.0,0.0,...|\n",
            "| 35| management|divorced| tertiary|     no|   3837|    yes|  no|unknown|  8|  may|    1084|       1|   -1|       0| unknown|    yes|  1.0|    0.0|        2.0|          1.0|        0.0|        1.0|     0.0|        1.0|         0.0|        1.0|      0.0|[0.0,2.0,2.0,0.0,...|\n",
            "| 32|blue-collar|  single|  primary|     no|    611|    yes|  no|unknown|  8|  may|     541|       3|   -1|       0| unknown|    yes|  1.0|    1.0|        1.0|          2.0|        0.0|        1.0|     0.0|        1.0|         0.0|        1.0|      0.0|[1.0,1.0,1.0,0.0,...|\n",
            "| 49|   services| married|secondary|     no|     -8|    yes|  no|unknown|  8|  may|    1119|       1|   -1|       0| unknown|    yes|  1.0|    4.0|        0.0|          0.0|        0.0|        1.0|     0.0|        1.0|         0.0|        1.0|      0.0|(16,[0,4,6,8,10,1...|\n",
            "| 41|     admin.| married|secondary|     no|     55|    yes|  no|unknown|  8|  may|    1120|       2|   -1|       0| unknown|    yes|  1.0|    3.0|        0.0|          0.0|        0.0|        1.0|     0.0|        1.0|         0.0|        1.0|      0.0|(16,[0,4,6,8,10,1...|\n",
            "| 49|     admin.|divorced|secondary|     no|    168|    yes| yes|unknown|  8|  may|     513|       1|   -1|       0| unknown|    yes|  1.0|    3.0|        2.0|          0.0|        0.0|        1.0|     1.0|        1.0|         0.0|        1.0|      0.0|[3.0,2.0,2.0,0.0,...|\n",
            "+---+-----------+--------+---------+-------+-------+-------+----+-------+---+-----+--------+--------+-----+--------+--------+-------+-----+-------+-----------+-------------+-----------+-----------+--------+-----------+------------+-----------+---------+--------------------+\n",
            "only showing top 20 rows\n",
            "\n"
          ],
          "name": "stdout"
        }
      ]
    },
    {
      "cell_type": "code",
      "metadata": {
        "id": "eUGbwhoUBqpJ"
      },
      "source": [
        "# Split the data\n",
        "(training_data, test_data) = transformed_data.randomSplit([0.8,0.2])"
      ],
      "execution_count": 14,
      "outputs": []
    },
    {
      "cell_type": "code",
      "metadata": {
        "id": "TLVChEegnt5i"
      },
      "source": [
        "from pyspark.ml.classification import LogisticRegression\n",
        "model = LogisticRegression(featuresCol = 'features',labelCol=class_name, maxIter=30)"
      ],
      "execution_count": 15,
      "outputs": []
    },
    {
      "cell_type": "code",
      "metadata": {
        "id": "QLwPvloPn-xr"
      },
      "source": [
        "Model = model.fit(training_data)"
      ],
      "execution_count": 16,
      "outputs": []
    },
    {
      "cell_type": "code",
      "metadata": {
        "id": "Ma8Zf-4NBjnA"
      },
      "source": [
        "# Predict with the test dataset\n",
        "predictions = Model.transform(test_data)"
      ],
      "execution_count": 17,
      "outputs": []
    },
    {
      "cell_type": "code",
      "metadata": {
        "colab": {
          "base_uri": "https://localhost:8080/"
        },
        "id": "XW9rCFfdGkuI",
        "outputId": "172d2dbc-b184-40f2-c27f-a682cfe588d2"
      },
      "source": [
        "from pyspark.ml.evaluation import MulticlassClassificationEvaluator\n",
        "\n",
        "multi_evaluator = MulticlassClassificationEvaluator(labelCol = 'label', metricName = 'accuracy')\n",
        "print('Logistic Regression Accuracy:', multi_evaluator.evaluate(predictions))\n"
      ],
      "execution_count": 18,
      "outputs": [
        {
          "output_type": "stream",
          "text": [
            "Logistic Regression Accuracy: 1.0\n"
          ],
          "name": "stdout"
        }
      ]
    },
    {
      "cell_type": "code",
      "metadata": {
        "colab": {
          "base_uri": "https://localhost:8080/"
        },
        "id": "mZ8zROUZhYJn",
        "outputId": "5a49d4cd-68d7-4d02-bbb4-163cee8729ad"
      },
      "source": [
        "predictions.select(\"label\",\"prediction\").show()"
      ],
      "execution_count": 24,
      "outputs": [
        {
          "output_type": "stream",
          "text": [
            "+-----+----------+\n",
            "|label|prediction|\n",
            "+-----+----------+\n",
            "|  1.0|       1.0|\n",
            "|  0.0|       0.0|\n",
            "|  1.0|       1.0|\n",
            "|  1.0|       1.0|\n",
            "|  0.0|       0.0|\n",
            "|  1.0|       1.0|\n",
            "|  1.0|       1.0|\n",
            "|  1.0|       1.0|\n",
            "|  1.0|       1.0|\n",
            "|  1.0|       1.0|\n",
            "|  1.0|       1.0|\n",
            "|  1.0|       1.0|\n",
            "|  1.0|       1.0|\n",
            "|  0.0|       0.0|\n",
            "|  0.0|       0.0|\n",
            "|  1.0|       1.0|\n",
            "|  1.0|       1.0|\n",
            "|  1.0|       1.0|\n",
            "|  1.0|       1.0|\n",
            "|  1.0|       1.0|\n",
            "+-----+----------+\n",
            "only showing top 20 rows\n",
            "\n"
          ],
          "name": "stdout"
        }
      ]
    },
    {
      "cell_type": "code",
      "metadata": {
        "colab": {
          "base_uri": "https://localhost:8080/"
        },
        "id": "loWrq5bLj4DX",
        "outputId": "c9466e29-246a-48c6-c8ca-a4e495ab8d0f"
      },
      "source": [
        "predictions.show()"
      ],
      "execution_count": 25,
      "outputs": [
        {
          "output_type": "stream",
          "text": [
            "+---+-------------+-------+---------+-------+-------+-------+----+---------+---+-----+--------+--------+-----+--------+--------+-------+-----+-------+-----------+-------------+-----------+-----------+--------+-----------+------------+-----------+---------+--------------------+--------------------+--------------------+----------+\n",
            "|age|          job|marital|education|default|balance|housing|loan|  contact|day|month|duration|campaign|pdays|previous|poutcome|deposit|label|job_new|marital_new|education_new|default_new|housing_new|loan_new|contact_new|poutcome_new|deposit_new|month_new|            features|       rawPrediction|         probability|prediction|\n",
            "+---+-------------+-------+---------+-------+-------+-------+----+---------+---+-----+--------+--------+-----+--------+--------+-------+-----+-------+-----------+-------------+-----------+-----------+--------+-----------+------------+-----------+---------+--------------------+--------------------+--------------------+----------+\n",
            "| 19|      student| single|  primary|     no|    103|     no|  no| cellular| 10|  jul|     104|       2|   -1|       0| unknown|    yes|  1.0|    7.0|        1.0|          2.0|        0.0|        0.0|     0.0|        0.0|         0.0|        1.0|      2.0|[7.0,1.0,1.0,0.0,...|[-23.020243455516...|[1.00562322563523...|       1.0|\n",
            "| 20|       admin.| single|secondary|     no|    336|     no| yes| cellular|  5|  jun|     133|       1|   -1|       0| unknown|     no|  0.0|    3.0|        1.0|          0.0|        0.0|        0.0|     1.0|        0.0|         0.0|        0.0|      3.0|[3.0,1.0,1.0,0.0,...|[17.7776666726000...|[0.99999998097794...|       0.0|\n",
            "| 20|      student| single|  primary|     no|   6991|     no|  no| cellular| 12|  aug|     178|       2|   -1|       0| unknown|    yes|  1.0|    7.0|        1.0|          2.0|        0.0|        0.0|     0.0|        0.0|         0.0|        1.0|      1.0|[7.0,1.0,1.0,0.0,...|[-22.680027763187...|[1.41315270114109...|       1.0|\n",
            "| 20|      student| single|secondary|     no|    215|     no|  no| cellular| 21|  aug|     228|       4|  183|       1|   other|    yes|  1.0|    7.0|        1.0|          0.0|        0.0|        0.0|     0.0|        0.0|         3.0|        1.0|      1.0|[7.0,1.0,1.0,0.0,...|[-20.450123405548...|[1.31408739707494...|       1.0|\n",
            "| 20|      student| single| tertiary|     no|   2764|    yes|  no|  unknown| 29|  may|     139|       2|   -1|       0| unknown|     no|  0.0|    7.0|        1.0|          1.0|        0.0|        1.0|     0.0|        1.0|         0.0|        0.0|      0.0|[7.0,1.0,1.0,0.0,...|[23.6810689009841...|[0.99999999994806...|       0.0|\n",
            "| 20|      student| single|  unknown|     no|    801|     no|  no| cellular| 11|  nov|     244|       2|   -1|       0| unknown|    yes|  1.0|    7.0|        1.0|          3.0|        0.0|        0.0|     0.0|        0.0|         0.0|        1.0|      4.0|[7.0,1.0,1.0,0.0,...|[-22.426486566898...|[1.82096096202897...|       1.0|\n",
            "| 20|      student| single|  unknown|     no|    829|     no|  no| cellular|  9|  jul|     253|       2|   -1|       0| unknown|    yes|  1.0|    7.0|        1.0|          3.0|        0.0|        0.0|     0.0|        0.0|         0.0|        1.0|      2.0|[7.0,1.0,1.0,0.0,...|[-23.223826814491...|[8.20389636896309...|       1.0|\n",
            "| 20|      student| single|  unknown|     no|   2785|     no|  no| cellular| 16|  sep|     327|       2|   -1|       0| unknown|    yes|  1.0|    7.0|        1.0|          3.0|        0.0|        0.0|     0.0|        0.0|         0.0|        1.0|      9.0|[7.0,1.0,1.0,0.0,...|[-20.399512420531...|[1.38230640911058...|       1.0|\n",
            "| 21|       admin.| single|secondary|     no|    524|     no|  no| cellular| 26|  may|     185|       1|   -1|       0| unknown|    yes|  1.0|    3.0|        1.0|          0.0|        0.0|        0.0|     0.0|        0.0|         0.0|        1.0|      0.0|(16,[0,1,2,8,10,1...|[-21.559607393722...|[4.33292804258249...|       1.0|\n",
            "| 21|  blue-collar|married|  primary|     no|   -172|    yes| yes| cellular| 15|  may|     409|       1|  361|       3| failure|    yes|  1.0|    1.0|        0.0|          2.0|        0.0|        1.0|     1.0|        0.0|         1.0|        1.0|      0.0|[1.0,0.0,0.0,0.0,...|[-20.020244963935...|[2.01984519227959...|       1.0|\n",
            "| 21|      student| single|secondary|     no|     71|     no|  no| cellular| 13|  jan|     169|       2|   -1|       0| unknown|    yes|  1.0|    7.0|        1.0|          0.0|        0.0|        0.0|     0.0|        0.0|         0.0|        1.0|      8.0|[7.0,1.0,1.0,0.0,...|[-21.178222273816...|[6.34475606687040...|       1.0|\n",
            "| 21|      student| single|secondary|     no|    123|     no|  no|telephone| 12|  aug|     449|       1|   -1|       0| unknown|    yes|  1.0|    7.0|        1.0|          0.0|        0.0|        0.0|     0.0|        2.0|         0.0|        1.0|      1.0|[7.0,1.0,1.0,0.0,...|[-21.880025886427...|[3.14503507652401...|       1.0|\n",
            "| 21|      student| single|secondary|     no|   2488|     no|  no| cellular| 12|  oct|     180|       1|   -1|       0| unknown|    yes|  1.0|    7.0|        1.0|          0.0|        0.0|        0.0|     0.0|        0.0|         0.0|        1.0|      7.0|[7.0,1.0,1.0,0.0,...|[-21.558747232332...|[4.33665666336504...|       1.0|\n",
            "| 21|      student| single|  unknown|     no|    200|     no|  no|  unknown|  1|  jun|       8|       1|   -1|       0| unknown|     no|  0.0|    7.0|        1.0|          3.0|        0.0|        0.0|     0.0|        1.0|         0.0|        0.0|      3.0|[7.0,1.0,1.0,0.0,...|[17.3368506615324...|[0.99999997044020...|       0.0|\n",
            "| 21|   unemployed| single|secondary|     no|   1333|     no|  no| cellular|  2|  feb|     120|       1|   -1|       0| unknown|     no|  0.0|    8.0|        1.0|          0.0|        0.0|        0.0|     0.0|        0.0|         0.0|        0.0|      6.0|(16,[0,1,2,9,10,1...|[17.7615140970114...|[0.99999998066819...|       0.0|\n",
            "| 22|   management| single| tertiary|     no|    104|     no| yes| cellular| 18|  oct|     509|       1|  185|       3| success|    yes|  1.0|    0.0|        1.0|          1.0|        0.0|        0.0|     1.0|        0.0|         2.0|        1.0|      7.0|[0.0,1.0,1.0,0.0,...|[-19.997713079136...|[2.06587270742723...|       1.0|\n",
            "| 22|self-employed| single|secondary|     no|   2138|     no| yes| cellular| 10|  aug|     164|       1|  109|       2|   other|    yes|  1.0|    6.0|        1.0|          0.0|        0.0|        0.0|     1.0|        0.0|         3.0|        1.0|      1.0|[6.0,1.0,1.0,0.0,...|[-21.585258251330...|[4.22319807278801...|       1.0|\n",
            "| 22|     services| single|secondary|     no|    344|    yes|  no| cellular| 18|  may|     347|       1|   -1|       0| unknown|    yes|  1.0|    4.0|        1.0|          0.0|        0.0|        1.0|     0.0|        0.0|         0.0|        1.0|      0.0|[4.0,1.0,1.0,0.0,...|[-20.721525570487...|[1.00174178059745...|       1.0|\n",
            "| 22|      student| single|secondary|     no|      0|     no|  no| cellular|  6|  feb|     229|       6|   -1|       0| unknown|    yes|  1.0|    7.0|        1.0|          0.0|        0.0|        0.0|     0.0|        0.0|         0.0|        1.0|      6.0|(16,[0,1,2,8,9,11...|[-22.592614163728...|[1.54224132787534...|       1.0|\n",
            "| 22|      student| single|secondary|     no|    216|     no|  no| cellular|  8|  feb|     363|       1|  187|       1| success|    yes|  1.0|    7.0|        1.0|          0.0|        0.0|        0.0|     0.0|        0.0|         2.0|        1.0|      6.0|[7.0,1.0,1.0,0.0,...|[-21.882080355820...|[3.13858033103306...|       1.0|\n",
            "+---+-------------+-------+---------+-------+-------+-------+----+---------+---+-----+--------+--------+-----+--------+--------+-------+-----+-------+-----------+-------------+-----------+-----------+--------+-----------+------------+-----------+---------+--------------------+--------------------+--------------------+----------+\n",
            "only showing top 20 rows\n",
            "\n"
          ],
          "name": "stdout"
        }
      ]
    },
    {
      "cell_type": "code",
      "metadata": {
        "id": "eOyJ2UmZlcok"
      },
      "source": [
        ""
      ],
      "execution_count": null,
      "outputs": []
    }
  ]
}