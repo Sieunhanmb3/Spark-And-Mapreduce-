{
  "nbformat": 4,
  "nbformat_minor": 0,
  "metadata": {
    "colab": {
      "name": "Spark_dataframe.ipynb",
      "provenance": [],
      "collapsed_sections": []
    },
    "kernelspec": {
      "name": "python3",
      "display_name": "Python 3"
    }
  },
  "cells": [
    {
      "cell_type": "code",
      "metadata": {
        "colab": {
          "base_uri": "https://localhost:8080/"
        },
        "id": "oO4fzm-ym9mF",
        "outputId": "dfee3c78-cc6e-4682-c48d-ca6d74471f62"
      },
      "source": [
        "!pip install pyspark"
      ],
      "execution_count": 1,
      "outputs": [
        {
          "output_type": "stream",
          "text": [
            "Requirement already satisfied: pyspark in /usr/local/lib/python3.7/dist-packages (3.1.1)\n",
            "Requirement already satisfied: py4j==0.10.9 in /usr/local/lib/python3.7/dist-packages (from pyspark) (0.10.9)\n"
          ],
          "name": "stdout"
        }
      ]
    },
    {
      "cell_type": "code",
      "metadata": {
        "colab": {
          "base_uri": "https://localhost:8080/"
        },
        "id": "JhAzqSejZygU",
        "outputId": "3477305b-b858-46c8-b3bc-f031ae24dfc0"
      },
      "source": [
        "#Spark Dataframe\n",
        "\n",
        "from pyspark.sql import *\n",
        "from pyspark.shell import spark\n"
      ],
      "execution_count": 2,
      "outputs": [
        {
          "output_type": "stream",
          "text": [
            "Welcome to\n",
            "      ____              __\n",
            "     / __/__  ___ _____/ /__\n",
            "    _\\ \\/ _ \\/ _ `/ __/  '_/\n",
            "   /__ / .__/\\_,_/_/ /_/\\_\\   version 3.1.1\n",
            "      /_/\n",
            "\n",
            "Using Python version 3.7.10 (default, Feb 20 2021 21:17:23)\n",
            "Spark context Web UI available at http://87a6262eec78:4040\n",
            "Spark context available as 'sc' (master = local[*], app id = local-1619628896248).\n",
            "SparkSession available as 'spark'.\n"
          ],
          "name": "stdout"
        }
      ]
    },
    {
      "cell_type": "code",
      "metadata": {
        "colab": {
          "base_uri": "https://localhost:8080/"
        },
        "id": "dmhjVlABcKQ-",
        "outputId": "54267ab0-2bf3-4055-9ce3-24ab4e55980b"
      },
      "source": [
        " \n",
        "Student = Row(\"firstName\", \"lastName\", \"email\", \"salary\")\n",
        " \n",
        "Student1 = Student('nguyen', 'quoc', 'quocnguyen@gmail.com', 100000)\n",
        "Student2 = Student('bao', 'gia', 'giabao@gmail.com', 120000 )\n",
        "Student3 = Student('cuong', None, 'cuong@gmail.com', 140000 )\n",
        "Student4 = Student('loi', 'thien', 'thienloi@gmail.com', 160000 )\n",
        "Student5 = Student('long', 'thanh', 'thanhlong@gmail.com', 160000 )\n",
        " \n",
        "print(Student[0])\n",
        "print(Student3)\n",
        " \n"
      ],
      "execution_count": 3,
      "outputs": [
        {
          "output_type": "stream",
          "text": [
            "firstName\n",
            "Row(firstName='cuong', lastName=None, email='cuong@gmail.com', salary=140000)\n"
          ],
          "name": "stdout"
        }
      ]
    },
    {
      "cell_type": "code",
      "metadata": {
        "id": "Y414PpL2cOW1"
      },
      "source": [
        "classes1 = Row(id='123456', name='NLP')\n",
        "classes2 = Row(id='789012', name='BI')\n",
        "classes3 = Row(id='345678', name='WEB')\n",
        "classes4 = Row(id='901234', name='DEV')"
      ],
      "execution_count": 4,
      "outputs": []
    },
    {
      "cell_type": "code",
      "metadata": {
        "id": "gQN87cCLcX49"
      },
      "source": [
        "classesWithStudents1 = Row(classes=classes1, Students=[Student1, Student2, Student5])\n",
        "classesWithStudents2 = Row(classes=classes2, Students=[Student3, Student4])\n",
        "classesWithStudents3 = Row(classes=classes3, Students=[Student1, Student4, Student3])\n",
        "classesWithStudents4 = Row(classes=classes4, Students=[Student2, Student3])"
      ],
      "execution_count": 5,
      "outputs": []
    },
    {
      "cell_type": "code",
      "metadata": {
        "colab": {
          "base_uri": "https://localhost:8080/",
          "height": 151
        },
        "id": "Ekg6ng4QcaKd",
        "outputId": "75f294b1-4dd7-435d-b1c9-39f5f06e1482"
      },
      "source": [
        "classesWithStudents_Seq = [classesWithStudents1, classesWithStudents2]\n",
        "dframe = spark.createDataFrame(classesWithStudents_Seq)\n",
        "display(dframe)\n",
        "dframe.show()"
      ],
      "execution_count": 6,
      "outputs": [
        {
          "output_type": "display_data",
          "data": {
            "text/plain": [
              "DataFrame[classes: struct<id:string,name:string>, Students: array<struct<firstName:string,lastName:string,email:string,salary:bigint>>]"
            ]
          },
          "metadata": {
            "tags": []
          }
        },
        {
          "output_type": "stream",
          "text": [
            "+-------------+--------------------+\n",
            "|      classes|            Students|\n",
            "+-------------+--------------------+\n",
            "|{123456, NLP}|[{nguyen, quoc, q...|\n",
            "| {789012, BI}|[{cuong, null, cu...|\n",
            "+-------------+--------------------+\n",
            "\n"
          ],
          "name": "stdout"
        }
      ]
    },
    {
      "cell_type": "markdown",
      "metadata": {
        "id": "VPWILCvO9YqN"
      },
      "source": [
        "# USE DATA CVS"
      ]
    },
    {
      "cell_type": "markdown",
      "metadata": {
        "id": "bci3LNskA4qX"
      },
      "source": [
        "**PrintSchema** : sẽ cung cấp cho chúng tôi các cột khác nhau trong DataFrame của chúng tôi, cùng với loại dữ liệu và các điều kiện không thể thực hiện được cho cột cụ thể đó."
      ]
    },
    {
      "cell_type": "code",
      "metadata": {
        "id": "j3VSin4gnU4i",
        "colab": {
          "base_uri": "https://localhost:8080/"
        },
        "outputId": "917a8d29-c2cc-45c9-813a-9e69dce814fc"
      },
      "source": [
        "# load data \n",
        "df = spark.read.load('./bank.csv',format=\"csv\", header = True, inferSchema = True)\n",
        "df.printSchema()"
      ],
      "execution_count": 7,
      "outputs": [
        {
          "output_type": "stream",
          "text": [
            "root\n",
            " |-- age: integer (nullable = true)\n",
            " |-- job: string (nullable = true)\n",
            " |-- marital: string (nullable = true)\n",
            " |-- education: string (nullable = true)\n",
            " |-- default: string (nullable = true)\n",
            " |-- balance: integer (nullable = true)\n",
            " |-- housing: string (nullable = true)\n",
            " |-- loan: string (nullable = true)\n",
            " |-- contact: string (nullable = true)\n",
            " |-- day: integer (nullable = true)\n",
            " |-- month: string (nullable = true)\n",
            " |-- duration: integer (nullable = true)\n",
            " |-- campaign: integer (nullable = true)\n",
            " |-- pdays: integer (nullable = true)\n",
            " |-- previous: integer (nullable = true)\n",
            " |-- poutcome: string (nullable = true)\n",
            " |-- deposit: string (nullable = true)\n",
            "\n"
          ],
          "name": "stdout"
        }
      ]
    },
    {
      "cell_type": "code",
      "metadata": {
        "colab": {
          "base_uri": "https://localhost:8080/"
        },
        "id": "Xiyca2Ge9eie",
        "outputId": "5a41dffe-e3f4-4442-d921-4d9e83362728"
      },
      "source": [
        "df.show(5)"
      ],
      "execution_count": 8,
      "outputs": [
        {
          "output_type": "stream",
          "text": [
            "+---+----------+-------+---------+-------+-------+-------+----+-------+---+-----+--------+--------+-----+--------+--------+-------+\n",
            "|age|       job|marital|education|default|balance|housing|loan|contact|day|month|duration|campaign|pdays|previous|poutcome|deposit|\n",
            "+---+----------+-------+---------+-------+-------+-------+----+-------+---+-----+--------+--------+-----+--------+--------+-------+\n",
            "| 59|    admin.|married|secondary|     no|   2343|    yes|  no|unknown|  5|  may|    1042|       1|   -1|       0| unknown|    yes|\n",
            "| 56|    admin.|married|secondary|     no|     45|     no|  no|unknown|  5|  may|    1467|       1|   -1|       0| unknown|    yes|\n",
            "| 41|technician|married|secondary|     no|   1270|    yes|  no|unknown|  5|  may|    1389|       1|   -1|       0| unknown|    yes|\n",
            "| 55|  services|married|secondary|     no|   2476|    yes|  no|unknown|  5|  may|     579|       1|   -1|       0| unknown|    yes|\n",
            "| 54|    admin.|married| tertiary|     no|    184|     no|  no|unknown|  5|  may|     673|       2|   -1|       0| unknown|    yes|\n",
            "+---+----------+-------+---------+-------+-------+-------+----+-------+---+-----+--------+--------+-----+--------+--------+-------+\n",
            "only showing top 5 rows\n",
            "\n"
          ],
          "name": "stdout"
        }
      ]
    },
    {
      "cell_type": "code",
      "metadata": {
        "colab": {
          "base_uri": "https://localhost:8080/"
        },
        "id": "Roz2oExN_NSx",
        "outputId": "a28f1202-9e0e-4d33-85a8-7bdd78b30c44"
      },
      "source": [
        "# Row Count \n",
        "print(\"Row Count \",df.count() )\n",
        "\n",
        "# Column Count\n",
        "print(\"Column Count \",len(df.columns) )\n",
        "\n",
        "# Column Names\n",
        "df.columns "
      ],
      "execution_count": 9,
      "outputs": [
        {
          "output_type": "stream",
          "text": [
            "Row Count  11162\n",
            "Column Count  17\n"
          ],
          "name": "stdout"
        },
        {
          "output_type": "execute_result",
          "data": {
            "text/plain": [
              "['age',\n",
              " 'job',\n",
              " 'marital',\n",
              " 'education',\n",
              " 'default',\n",
              " 'balance',\n",
              " 'housing',\n",
              " 'loan',\n",
              " 'contact',\n",
              " 'day',\n",
              " 'month',\n",
              " 'duration',\n",
              " 'campaign',\n",
              " 'pdays',\n",
              " 'previous',\n",
              " 'poutcome',\n",
              " 'deposit']"
            ]
          },
          "metadata": {
            "tags": []
          },
          "execution_count": 9
        }
      ]
    },
    {
      "cell_type": "markdown",
      "metadata": {
        "id": "qALq7nRzBWut"
      },
      "source": [
        "**Describe** : cung cấp tóm tắt thống kê của cột đã cho, nếu không được chỉ định, nó cung cấp tóm tắt thống kê của DataFrame."
      ]
    },
    {
      "cell_type": "code",
      "metadata": {
        "colab": {
          "base_uri": "https://localhost:8080/"
        },
        "id": "xxVrT709_VxR",
        "outputId": "73089614-8499-4d35-d0f4-a3de410b6b19"
      },
      "source": [
        "df.describe().show()"
      ],
      "execution_count": 10,
      "outputs": [
        {
          "output_type": "stream",
          "text": [
            "+-------+------------------+-------+--------+---------+-------+------------------+-------+-----+--------+------------------+-----+------------------+------------------+------------------+------------------+--------+-------+\n",
            "|summary|               age|    job| marital|education|default|           balance|housing| loan| contact|               day|month|          duration|          campaign|             pdays|          previous|poutcome|deposit|\n",
            "+-------+------------------+-------+--------+---------+-------+------------------+-------+-----+--------+------------------+-----+------------------+------------------+------------------+------------------+--------+-------+\n",
            "|  count|             11162|  11162|   11162|    11162|  11162|             11162|  11162|11162|   11162|             11162|11162|             11162|             11162|             11162|             11162|   11162|  11162|\n",
            "|   mean|41.231947679627304|   null|    null|     null|   null|1528.5385235620856|   null| null|    null|15.658036194230425| null|371.99381831213043| 2.508421429851281| 51.33040673714388|0.8325568894463358|    null|   null|\n",
            "| stddev|11.913369192215518|   null|    null|     null|   null| 3225.413325946149|   null| null|    null| 8.420739541006462| null|347.12838571630687|2.7220771816614824|108.75828197197717| 2.292007218670508|    null|   null|\n",
            "|    min|                18| admin.|divorced|  primary|     no|             -6847|     no|   no|cellular|                 1|  apr|                 2|                 1|                -1|                 0| failure|     no|\n",
            "|    max|                95|unknown|  single|  unknown|    yes|             81204|    yes|  yes| unknown|                31|  sep|              3881|                63|               854|                58| unknown|    yes|\n",
            "+-------+------------------+-------+--------+---------+-------+------------------+-------+-----+--------+------------------+-----+------------------+------------------+------------------+------------------+--------+-------+\n",
            "\n"
          ],
          "name": "stdout"
        }
      ]
    },
    {
      "cell_type": "code",
      "metadata": {
        "colab": {
          "base_uri": "https://localhost:8080/"
        },
        "id": "jYBp_p55Bm6r",
        "outputId": "f80bdca4-463a-49a2-fe27-0fdc97af8bd3"
      },
      "source": [
        "df.describe(\"age\").show()"
      ],
      "execution_count": 11,
      "outputs": [
        {
          "output_type": "stream",
          "text": [
            "+-------+------------------+\n",
            "|summary|               age|\n",
            "+-------+------------------+\n",
            "|  count|             11162|\n",
            "|   mean|41.231947679627304|\n",
            "| stddev|11.913369192215518|\n",
            "|    min|                18|\n",
            "|    max|                95|\n",
            "+-------+------------------+\n",
            "\n"
          ],
          "name": "stdout"
        }
      ]
    },
    {
      "cell_type": "markdown",
      "metadata": {
        "id": "M1cCyNRqCAub"
      },
      "source": [
        "**Select** : chọn cột từ Datarfame"
      ]
    },
    {
      "cell_type": "code",
      "metadata": {
        "colab": {
          "base_uri": "https://localhost:8080/"
        },
        "id": "shaZZ9aeBrfj",
        "outputId": "4801a8f0-87ce-49fc-ba7d-696cb6cc67ea"
      },
      "source": [
        "df.select('age','job').show(5)"
      ],
      "execution_count": 12,
      "outputs": [
        {
          "output_type": "stream",
          "text": [
            "+---+----------+\n",
            "|age|       job|\n",
            "+---+----------+\n",
            "| 59|    admin.|\n",
            "| 56|    admin.|\n",
            "| 41|technician|\n",
            "| 55|  services|\n",
            "| 54|    admin.|\n",
            "+---+----------+\n",
            "only showing top 5 rows\n",
            "\n"
          ],
          "name": "stdout"
        }
      ]
    },
    {
      "cell_type": "markdown",
      "metadata": {
        "id": "vMO66SJ4DDRK"
      },
      "source": [
        "**Distinct** : chọn cột vói nhiều thuộc tính khác nhau\n"
      ]
    },
    {
      "cell_type": "code",
      "metadata": {
        "colab": {
          "base_uri": "https://localhost:8080/"
        },
        "id": "GDxBk5tUCRG1",
        "outputId": "16edd993-1ce0-496c-9803-45964846a8e1"
      },
      "source": [
        "df.select('age','job').distinct().show(5)"
      ],
      "execution_count": 13,
      "outputs": [
        {
          "output_type": "stream",
          "text": [
            "+---+-------------+\n",
            "|age|          job|\n",
            "+---+-------------+\n",
            "| 23|    housemaid|\n",
            "| 63| entrepreneur|\n",
            "| 36|  blue-collar|\n",
            "| 35|self-employed|\n",
            "| 42|       admin.|\n",
            "+---+-------------+\n",
            "only showing top 5 rows\n",
            "\n"
          ],
          "name": "stdout"
        }
      ]
    },
    {
      "cell_type": "markdown",
      "metadata": {
        "id": "dLLumgsZDYU4"
      },
      "source": [
        "**Filter** lọc dự liệu từ dataframe"
      ]
    },
    {
      "cell_type": "code",
      "metadata": {
        "colab": {
          "base_uri": "https://localhost:8080/"
        },
        "id": "b0TbI8keC_PT",
        "outputId": "2ca309af-1b11-4ccc-9750-f4c6a3506e62"
      },
      "source": [
        "df.filter(df.age=='22').show()\n",
        "df.filter(df.age=='22').count()"
      ],
      "execution_count": 14,
      "outputs": [
        {
          "output_type": "stream",
          "text": [
            "+---+-----------+-------+---------+-------+-------+-------+----+---------+---+-----+--------+--------+-----+--------+--------+-------+\n",
            "|age|        job|marital|education|default|balance|housing|loan|  contact|day|month|duration|campaign|pdays|previous|poutcome|deposit|\n",
            "+---+-----------+-------+---------+-------+-------+-------+----+---------+---+-----+--------+--------+-----+--------+--------+-------+\n",
            "| 22|     admin.| single| tertiary|     no|    897|    yes|  no| cellular|  4|  feb|     133|       4|   -1|       0| unknown|    yes|\n",
            "| 22|    student| single|secondary|     no|      0|     no|  no| cellular|  6|  feb|     229|       6|   -1|       0| unknown|    yes|\n",
            "| 22|    student| single|secondary|     no|    381|     no|  no| cellular| 12|  feb|     227|       1|   -1|       0| unknown|    yes|\n",
            "| 22|    student| single|secondary|     no|    107|     no|  no| cellular| 14|  apr|     125|       1|   -1|       0| unknown|    yes|\n",
            "| 22|blue-collar| single|secondary|     no|    -51|    yes|  no| cellular| 15|  may|     859|       1|   -1|       0| unknown|    yes|\n",
            "| 22|   services| single|secondary|     no|    344|    yes|  no| cellular| 18|  may|     347|       1|   -1|       0| unknown|    yes|\n",
            "| 22|blue-collar| single|secondary|     no|    682|     no|  no| cellular|  5|  jun|     126|       2|   91|       1| success|    yes|\n",
            "| 22|    student| single|  unknown|     no|    466|     no|  no| cellular| 30|  jun|     377|       1|   -1|       0| unknown|    yes|\n",
            "| 22|    student| single|secondary|     no|    185|     no|  no| cellular|  8|  jul|     153|       1|   -1|       0| unknown|    yes|\n",
            "| 22|    student| single|secondary|     no|    948|     no|  no|telephone| 18|  aug|     215|       1|  197|       2| failure|    yes|\n",
            "| 22|    student| single| tertiary|     no|    691|     no|  no| cellular| 19|  aug|     338|       1|   -1|       0| unknown|    yes|\n",
            "| 22|    student| single|secondary|     no|    144|     no|  no| cellular| 21|  aug|     116|       1|   -1|       0| unknown|    yes|\n",
            "| 22|   services| single|secondary|     no|    129|     no|  no| cellular| 16|  oct|     258|       1|   -1|       0| unknown|    yes|\n",
            "| 22|    student| single|secondary|     no|     23|     no|  no| cellular| 27|  oct|     137|       1|   -1|       0| unknown|    yes|\n",
            "| 22|    student| single|secondary|     no|   1522|     no|  no| cellular| 30|  oct|     368|       2|   -1|       0| unknown|    yes|\n",
            "| 22|    student| single| tertiary|     no|    691|     no|  no| cellular| 30|  nov|     260|       5|  103|       1| success|    yes|\n",
            "| 22|    student| single|secondary|     no|    254|     no|  no| cellular| 13|  jan|     143|       2|   -1|       0| unknown|    yes|\n",
            "| 22|    student| single|secondary|     no|    216|     no|  no| cellular|  8|  feb|     363|       1|  187|       1| success|    yes|\n",
            "| 22|    student| single|  unknown|     no|   1215|     no|  no| cellular| 19|  feb|     145|       3|  192|       1| failure|    yes|\n",
            "| 22|    student| single|secondary|     no|    948|     no|  no|telephone| 25|  feb|     169|       1|  191|       3| success|    yes|\n",
            "+---+-----------+-------+---------+-------+-------+-------+----+---------+---+-----+--------+--------+-----+--------+--------+-------+\n",
            "only showing top 20 rows\n",
            "\n"
          ],
          "name": "stdout"
        },
        {
          "output_type": "execute_result",
          "data": {
            "text/plain": [
              "48"
            ]
          },
          "metadata": {
            "tags": []
          },
          "execution_count": 14
        }
      ]
    },
    {
      "cell_type": "code",
      "metadata": {
        "colab": {
          "base_uri": "https://localhost:8080/"
        },
        "id": "Q0NPN6_BDwjf",
        "outputId": "3a43f4f6-33b2-4b66-c928-824b1f5e903f"
      },
      "source": [
        "df.filter((df.age=='22') & (df.education=='tertiary')).show() ## and(&) or(|)"
      ],
      "execution_count": 15,
      "outputs": [
        {
          "output_type": "stream",
          "text": [
            "+---+-------------+-------+---------+-------+-------+-------+----+---------+---+-----+--------+--------+-----+--------+--------+-------+\n",
            "|age|          job|marital|education|default|balance|housing|loan|  contact|day|month|duration|campaign|pdays|previous|poutcome|deposit|\n",
            "+---+-------------+-------+---------+-------+-------+-------+----+---------+---+-----+--------+--------+-----+--------+--------+-------+\n",
            "| 22|       admin.| single| tertiary|     no|    897|    yes|  no| cellular|  4|  feb|     133|       4|   -1|       0| unknown|    yes|\n",
            "| 22|      student| single| tertiary|     no|    691|     no|  no| cellular| 19|  aug|     338|       1|   -1|       0| unknown|    yes|\n",
            "| 22|      student| single| tertiary|     no|    691|     no|  no| cellular| 30|  nov|     260|       5|  103|       1| success|    yes|\n",
            "| 22|   management| single| tertiary|     no|    104|     no| yes| cellular| 16|  apr|     330|       3|   -1|       0| unknown|    yes|\n",
            "| 22|   management| single| tertiary|     no|    104|     no| yes| cellular| 18|  oct|     509|       1|  185|       3| success|    yes|\n",
            "| 22|   unemployed| single| tertiary|     no|    993|     no|  no| cellular| 28|  jul|     115|       3|   93|       1|   other|    yes|\n",
            "| 22|self-employed| single| tertiary|     no|    780|     no|  no| cellular| 17|  mar|     272|       3|   -1|       0| unknown|    yes|\n",
            "| 22|      student| single| tertiary|     no|   1161|     no| yes| cellular| 16|  jun|     119|       1|   -1|       0| unknown|     no|\n",
            "| 22|   management| single| tertiary|     no|    760|     no|  no|telephone|  7|  dec|       6|       1|   -1|       0| unknown|     no|\n",
            "+---+-------------+-------+---------+-------+-------+-------+----+---------+---+-----+--------+--------+-----+--------+--------+-------+\n",
            "\n"
          ],
          "name": "stdout"
        }
      ]
    },
    {
      "cell_type": "markdown",
      "metadata": {
        "id": "3t0IPvI5FFE-"
      },
      "source": [
        "**OrderBy** : sắp xếp dữ liệu. Theo mặc định, nó sắp xếp theo thứ tự tăng dần, nhưng cũng có thể thay đổi theo thứ tự giảm dần."
      ]
    },
    {
      "cell_type": "code",
      "metadata": {
        "colab": {
          "base_uri": "https://localhost:8080/"
        },
        "id": "1n8Z-YukEO9G",
        "outputId": "d61a9e83-6e88-4746-8b2c-55d662ac140f"
      },
      "source": [
        "df.orderBy(df.age).show(20)"
      ],
      "execution_count": 16,
      "outputs": [
        {
          "output_type": "stream",
          "text": [
            "+---+-------+-------+---------+-------+-------+-------+----+---------+---+-----+--------+--------+-----+--------+--------+-------+\n",
            "|age|    job|marital|education|default|balance|housing|loan|  contact|day|month|duration|campaign|pdays|previous|poutcome|deposit|\n",
            "+---+-------+-------+---------+-------+-------+-------+----+---------+---+-----+--------+--------+-----+--------+--------+-------+\n",
            "| 18|student| single|  primary|     no|    608|     no|  no| cellular| 12|  aug|     267|       1|   -1|       0| unknown|    yes|\n",
            "| 18|student| single|  unknown|     no|    108|     no|  no| cellular|  9|  feb|      92|       1|  183|       1| success|    yes|\n",
            "| 18|student| single|  unknown|     no|    108|     no|  no| cellular|  8|  sep|     169|       1|   -1|       0| unknown|    yes|\n",
            "| 18|student| single|  unknown|     no|      3|     no|  no| cellular| 25|  aug|     130|       2|   -1|       0| unknown|    yes|\n",
            "| 18|student| single|secondary|     no|      5|     no|  no| cellular| 24|  aug|     143|       2|   -1|       0| unknown|     no|\n",
            "| 18|student| single|  unknown|     no|    108|     no|  no| cellular| 10|  aug|     167|       1|   -1|       0| unknown|    yes|\n",
            "| 18|student| single|  unknown|     no|    348|     no|  no| cellular|  5|  may|     443|       4|   -1|       0| unknown|    yes|\n",
            "| 18|student| single|  primary|     no|    608|     no|  no| cellular| 13|  nov|     210|       1|   93|       1| success|    yes|\n",
            "| 19|student| single|secondary|     no|    329|     no|  no| cellular| 22|  oct|     252|       2|   -1|       0| unknown|    yes|\n",
            "| 19|student| single|  primary|     no|    134|     no|  no| cellular| 27|  mar|     271|       2|   -1|       0| unknown|    yes|\n",
            "| 19|student| single|  unknown|     no|    108|     no|  no| cellular|  9|  mar|     273|       2|  182|       1| success|    yes|\n",
            "| 19|student| single|secondary|     no|    302|     no|  no| cellular| 16|  jul|     205|       1|   -1|       0| unknown|    yes|\n",
            "| 19|student| single|  primary|     no|    103|     no|  no| cellular| 10|  jul|     104|       2|   -1|       0| unknown|    yes|\n",
            "| 19|student| single|secondary|     no|    394|     no|  no| cellular|  5|  apr|     327|       3|   -1|       0| unknown|    yes|\n",
            "| 19|student| single|secondary|     no|    329|     no|  no| cellular| 30|  apr|     169|       1|  190|       2| success|    yes|\n",
            "| 19|student| single|  unknown|     no|    108|     no|  no| cellular| 10|  aug|     168|       1|  182|       2| success|    yes|\n",
            "| 19|student| single|  primary|     no|    608|     no|  no| cellular| 12|  may|     236|       1|  180|       2| success|    yes|\n",
            "| 19|student| single|secondary|     no|     55|     no|  no|telephone|  6|  oct|      89|       2|  193|       1|   other|     no|\n",
            "| 19|student| single|secondary|     no|    372|     no|  no|telephone|  8|  jul|     444|       3|   -1|       0| unknown|    yes|\n",
            "| 19|student| single|  unknown|     no|    779|     no|  no| cellular|  1|  apr|     184|       4|   -1|       0| unknown|    yes|\n",
            "+---+-------+-------+---------+-------+-------+-------+----+---------+---+-----+--------+--------+-----+--------+--------+-------+\n",
            "only showing top 20 rows\n",
            "\n"
          ],
          "name": "stdout"
        }
      ]
    },
    {
      "cell_type": "code",
      "metadata": {
        "colab": {
          "base_uri": "https://localhost:8080/"
        },
        "id": "MA29cep0QITj",
        "outputId": "bac37a65-4d3e-4870-f475-dea5c0f2dddb"
      },
      "source": [
        "df.sort(\"age\").show()"
      ],
      "execution_count": 17,
      "outputs": [
        {
          "output_type": "stream",
          "text": [
            "+---+-------+-------+---------+-------+-------+-------+----+---------+---+-----+--------+--------+-----+--------+--------+-------+\n",
            "|age|    job|marital|education|default|balance|housing|loan|  contact|day|month|duration|campaign|pdays|previous|poutcome|deposit|\n",
            "+---+-------+-------+---------+-------+-------+-------+----+---------+---+-----+--------+--------+-----+--------+--------+-------+\n",
            "| 18|student| single|  primary|     no|    608|     no|  no| cellular| 12|  aug|     267|       1|   -1|       0| unknown|    yes|\n",
            "| 18|student| single|  unknown|     no|    108|     no|  no| cellular|  9|  feb|      92|       1|  183|       1| success|    yes|\n",
            "| 18|student| single|  unknown|     no|    108|     no|  no| cellular|  8|  sep|     169|       1|   -1|       0| unknown|    yes|\n",
            "| 18|student| single|  unknown|     no|      3|     no|  no| cellular| 25|  aug|     130|       2|   -1|       0| unknown|    yes|\n",
            "| 18|student| single|secondary|     no|      5|     no|  no| cellular| 24|  aug|     143|       2|   -1|       0| unknown|     no|\n",
            "| 18|student| single|  unknown|     no|    108|     no|  no| cellular| 10|  aug|     167|       1|   -1|       0| unknown|    yes|\n",
            "| 18|student| single|  unknown|     no|    348|     no|  no| cellular|  5|  may|     443|       4|   -1|       0| unknown|    yes|\n",
            "| 18|student| single|  primary|     no|    608|     no|  no| cellular| 13|  nov|     210|       1|   93|       1| success|    yes|\n",
            "| 19|student| single|secondary|     no|    329|     no|  no| cellular| 22|  oct|     252|       2|   -1|       0| unknown|    yes|\n",
            "| 19|student| single|  primary|     no|    134|     no|  no| cellular| 27|  mar|     271|       2|   -1|       0| unknown|    yes|\n",
            "| 19|student| single|  unknown|     no|    108|     no|  no| cellular|  9|  mar|     273|       2|  182|       1| success|    yes|\n",
            "| 19|student| single|secondary|     no|    302|     no|  no| cellular| 16|  jul|     205|       1|   -1|       0| unknown|    yes|\n",
            "| 19|student| single|  primary|     no|    103|     no|  no| cellular| 10|  jul|     104|       2|   -1|       0| unknown|    yes|\n",
            "| 19|student| single|secondary|     no|    394|     no|  no| cellular|  5|  apr|     327|       3|   -1|       0| unknown|    yes|\n",
            "| 19|student| single|secondary|     no|    329|     no|  no| cellular| 30|  apr|     169|       1|  190|       2| success|    yes|\n",
            "| 19|student| single|  unknown|     no|    108|     no|  no| cellular| 10|  aug|     168|       1|  182|       2| success|    yes|\n",
            "| 19|student| single|  primary|     no|    608|     no|  no| cellular| 12|  may|     236|       1|  180|       2| success|    yes|\n",
            "| 19|student| single|secondary|     no|     55|     no|  no|telephone|  6|  oct|      89|       2|  193|       1|   other|     no|\n",
            "| 19|student| single|secondary|     no|    372|     no|  no|telephone|  8|  jul|     444|       3|   -1|       0| unknown|    yes|\n",
            "| 19|student| single|  unknown|     no|    779|     no|  no| cellular|  1|  apr|     184|       4|   -1|       0| unknown|    yes|\n",
            "+---+-------+-------+---------+-------+-------+-------+----+---------+---+-----+--------+--------+-----+--------+--------+-------+\n",
            "only showing top 20 rows\n",
            "\n"
          ],
          "name": "stdout"
        }
      ]
    },
    {
      "cell_type": "markdown",
      "metadata": {
        "id": "BbR9RVo8GHQj"
      },
      "source": [
        "**GroupBy - phân nhóm dữ liệu** : được sử dụng để nhóm DataFrame dựa trên cột được chỉ định."
      ]
    },
    {
      "cell_type": "code",
      "metadata": {
        "colab": {
          "base_uri": "https://localhost:8080/"
        },
        "id": "ONM4S7sUFWls",
        "outputId": "f426a184-7fa2-43d3-b3d2-7687a23dc7bc"
      },
      "source": [
        "df_job = df.groupby(\"job\").count()\n",
        "df_job.show()"
      ],
      "execution_count": 18,
      "outputs": [
        {
          "output_type": "stream",
          "text": [
            "+-------------+-----+\n",
            "|          job|count|\n",
            "+-------------+-----+\n",
            "|   management| 2566|\n",
            "|      retired|  778|\n",
            "|      unknown|   70|\n",
            "|self-employed|  405|\n",
            "|      student|  360|\n",
            "|  blue-collar| 1944|\n",
            "| entrepreneur|  328|\n",
            "|       admin.| 1334|\n",
            "|   technician| 1823|\n",
            "|     services|  923|\n",
            "|    housemaid|  274|\n",
            "|   unemployed|  357|\n",
            "+-------------+-----+\n",
            "\n"
          ],
          "name": "stdout"
        }
      ]
    },
    {
      "cell_type": "markdown",
      "metadata": {
        "id": "HLr7ljfDPW-P"
      },
      "source": [
        "**Rename columns** : đổi tên cột"
      ]
    },
    {
      "cell_type": "code",
      "metadata": {
        "colab": {
          "base_uri": "https://localhost:8080/"
        },
        "id": "UCfWzqjcPWSw",
        "outputId": "c5533a59-6073-4112-c90d-6a949a889995"
      },
      "source": [
        "new_df = df.withColumnRenamed(\"age\",\"old\")\n",
        "new_df.show()"
      ],
      "execution_count": 19,
      "outputs": [
        {
          "output_type": "stream",
          "text": [
            "+---+-----------+--------+---------+-------+-------+-------+----+-------+---+-----+--------+--------+-----+--------+--------+-------+\n",
            "|old|        job| marital|education|default|balance|housing|loan|contact|day|month|duration|campaign|pdays|previous|poutcome|deposit|\n",
            "+---+-----------+--------+---------+-------+-------+-------+----+-------+---+-----+--------+--------+-----+--------+--------+-------+\n",
            "| 59|     admin.| married|secondary|     no|   2343|    yes|  no|unknown|  5|  may|    1042|       1|   -1|       0| unknown|    yes|\n",
            "| 56|     admin.| married|secondary|     no|     45|     no|  no|unknown|  5|  may|    1467|       1|   -1|       0| unknown|    yes|\n",
            "| 41| technician| married|secondary|     no|   1270|    yes|  no|unknown|  5|  may|    1389|       1|   -1|       0| unknown|    yes|\n",
            "| 55|   services| married|secondary|     no|   2476|    yes|  no|unknown|  5|  may|     579|       1|   -1|       0| unknown|    yes|\n",
            "| 54|     admin.| married| tertiary|     no|    184|     no|  no|unknown|  5|  may|     673|       2|   -1|       0| unknown|    yes|\n",
            "| 42| management|  single| tertiary|     no|      0|    yes| yes|unknown|  5|  may|     562|       2|   -1|       0| unknown|    yes|\n",
            "| 56| management| married| tertiary|     no|    830|    yes| yes|unknown|  6|  may|    1201|       1|   -1|       0| unknown|    yes|\n",
            "| 60|    retired|divorced|secondary|     no|    545|    yes|  no|unknown|  6|  may|    1030|       1|   -1|       0| unknown|    yes|\n",
            "| 37| technician| married|secondary|     no|      1|    yes|  no|unknown|  6|  may|     608|       1|   -1|       0| unknown|    yes|\n",
            "| 28|   services|  single|secondary|     no|   5090|    yes|  no|unknown|  6|  may|    1297|       3|   -1|       0| unknown|    yes|\n",
            "| 38|     admin.|  single|secondary|     no|    100|    yes|  no|unknown|  7|  may|     786|       1|   -1|       0| unknown|    yes|\n",
            "| 30|blue-collar| married|secondary|     no|    309|    yes|  no|unknown|  7|  may|    1574|       2|   -1|       0| unknown|    yes|\n",
            "| 29| management| married| tertiary|     no|    199|    yes| yes|unknown|  7|  may|    1689|       4|   -1|       0| unknown|    yes|\n",
            "| 46|blue-collar|  single| tertiary|     no|    460|    yes|  no|unknown|  7|  may|    1102|       2|   -1|       0| unknown|    yes|\n",
            "| 31| technician|  single| tertiary|     no|    703|    yes|  no|unknown|  8|  may|     943|       2|   -1|       0| unknown|    yes|\n",
            "| 35| management|divorced| tertiary|     no|   3837|    yes|  no|unknown|  8|  may|    1084|       1|   -1|       0| unknown|    yes|\n",
            "| 32|blue-collar|  single|  primary|     no|    611|    yes|  no|unknown|  8|  may|     541|       3|   -1|       0| unknown|    yes|\n",
            "| 49|   services| married|secondary|     no|     -8|    yes|  no|unknown|  8|  may|    1119|       1|   -1|       0| unknown|    yes|\n",
            "| 41|     admin.| married|secondary|     no|     55|    yes|  no|unknown|  8|  may|    1120|       2|   -1|       0| unknown|    yes|\n",
            "| 49|     admin.|divorced|secondary|     no|    168|    yes| yes|unknown|  8|  may|     513|       1|   -1|       0| unknown|    yes|\n",
            "+---+-----------+--------+---------+-------+-------+-------+----+-------+---+-----+--------+--------+-----+--------+--------+-------+\n",
            "only showing top 20 rows\n",
            "\n"
          ],
          "name": "stdout"
        }
      ]
    },
    {
      "cell_type": "markdown",
      "metadata": {
        "id": "0-M_L1SWRV0i"
      },
      "source": [
        "**Thêm cột** :  dùng withColumn để thêm cột\n",
        "**F.col** : dùng để truy cập đến cột "
      ]
    },
    {
      "cell_type": "code",
      "metadata": {
        "colab": {
          "base_uri": "https://localhost:8080/"
        },
        "id": "jID4IgZgRVX-",
        "outputId": "135bda29-ec66-4088-c177-dc12656b8ddd"
      },
      "source": [
        "import pyspark.sql.functions as F\n",
        "new2_df = df.withColumn(\"new old\", 10000 + F.col(\"age\"))\n",
        "new2_df.show()"
      ],
      "execution_count": 20,
      "outputs": [
        {
          "output_type": "stream",
          "text": [
            "+---+-----------+--------+---------+-------+-------+-------+----+-------+---+-----+--------+--------+-----+--------+--------+-------+-------+\n",
            "|age|        job| marital|education|default|balance|housing|loan|contact|day|month|duration|campaign|pdays|previous|poutcome|deposit|new old|\n",
            "+---+-----------+--------+---------+-------+-------+-------+----+-------+---+-----+--------+--------+-----+--------+--------+-------+-------+\n",
            "| 59|     admin.| married|secondary|     no|   2343|    yes|  no|unknown|  5|  may|    1042|       1|   -1|       0| unknown|    yes|  10059|\n",
            "| 56|     admin.| married|secondary|     no|     45|     no|  no|unknown|  5|  may|    1467|       1|   -1|       0| unknown|    yes|  10056|\n",
            "| 41| technician| married|secondary|     no|   1270|    yes|  no|unknown|  5|  may|    1389|       1|   -1|       0| unknown|    yes|  10041|\n",
            "| 55|   services| married|secondary|     no|   2476|    yes|  no|unknown|  5|  may|     579|       1|   -1|       0| unknown|    yes|  10055|\n",
            "| 54|     admin.| married| tertiary|     no|    184|     no|  no|unknown|  5|  may|     673|       2|   -1|       0| unknown|    yes|  10054|\n",
            "| 42| management|  single| tertiary|     no|      0|    yes| yes|unknown|  5|  may|     562|       2|   -1|       0| unknown|    yes|  10042|\n",
            "| 56| management| married| tertiary|     no|    830|    yes| yes|unknown|  6|  may|    1201|       1|   -1|       0| unknown|    yes|  10056|\n",
            "| 60|    retired|divorced|secondary|     no|    545|    yes|  no|unknown|  6|  may|    1030|       1|   -1|       0| unknown|    yes|  10060|\n",
            "| 37| technician| married|secondary|     no|      1|    yes|  no|unknown|  6|  may|     608|       1|   -1|       0| unknown|    yes|  10037|\n",
            "| 28|   services|  single|secondary|     no|   5090|    yes|  no|unknown|  6|  may|    1297|       3|   -1|       0| unknown|    yes|  10028|\n",
            "| 38|     admin.|  single|secondary|     no|    100|    yes|  no|unknown|  7|  may|     786|       1|   -1|       0| unknown|    yes|  10038|\n",
            "| 30|blue-collar| married|secondary|     no|    309|    yes|  no|unknown|  7|  may|    1574|       2|   -1|       0| unknown|    yes|  10030|\n",
            "| 29| management| married| tertiary|     no|    199|    yes| yes|unknown|  7|  may|    1689|       4|   -1|       0| unknown|    yes|  10029|\n",
            "| 46|blue-collar|  single| tertiary|     no|    460|    yes|  no|unknown|  7|  may|    1102|       2|   -1|       0| unknown|    yes|  10046|\n",
            "| 31| technician|  single| tertiary|     no|    703|    yes|  no|unknown|  8|  may|     943|       2|   -1|       0| unknown|    yes|  10031|\n",
            "| 35| management|divorced| tertiary|     no|   3837|    yes|  no|unknown|  8|  may|    1084|       1|   -1|       0| unknown|    yes|  10035|\n",
            "| 32|blue-collar|  single|  primary|     no|    611|    yes|  no|unknown|  8|  may|     541|       3|   -1|       0| unknown|    yes|  10032|\n",
            "| 49|   services| married|secondary|     no|     -8|    yes|  no|unknown|  8|  may|    1119|       1|   -1|       0| unknown|    yes|  10049|\n",
            "| 41|     admin.| married|secondary|     no|     55|    yes|  no|unknown|  8|  may|    1120|       2|   -1|       0| unknown|    yes|  10041|\n",
            "| 49|     admin.|divorced|secondary|     no|    168|    yes| yes|unknown|  8|  may|     513|       1|   -1|       0| unknown|    yes|  10049|\n",
            "+---+-----------+--------+---------+-------+-------+-------+----+-------+---+-----+--------+--------+-----+--------+--------+-------+-------+\n",
            "only showing top 20 rows\n",
            "\n"
          ],
          "name": "stdout"
        }
      ]
    },
    {
      "cell_type": "markdown",
      "metadata": {
        "id": "5UiS2PTzSRq2"
      },
      "source": [
        "**Thêm datafarm mới**"
      ]
    },
    {
      "cell_type": "code",
      "metadata": {
        "colab": {
          "base_uri": "https://localhost:8080/"
        },
        "id": "sxvnWOqlSng0",
        "outputId": "26da4c5c-2a62-40e4-d57f-6a296c0f4a7b"
      },
      "source": [
        "new3_df = spark.read.load('./bank_2.csv',format=\"csv\", header = True, inferSchema = True)\n",
        "new3_df.show(3)"
      ],
      "execution_count": 21,
      "outputs": [
        {
          "output_type": "stream",
          "text": [
            "+---+-------+\n",
            "|day|newdata|\n",
            "+---+-------+\n",
            "|  5|    may|\n",
            "|  5|    may|\n",
            "|  5|    may|\n",
            "+---+-------+\n",
            "only showing top 3 rows\n",
            "\n"
          ],
          "name": "stdout"
        }
      ]
    },
    {
      "cell_type": "code",
      "metadata": {
        "colab": {
          "base_uri": "https://localhost:8080/"
        },
        "id": "JNSRMFUASRcG",
        "outputId": "290b77cc-4136-4638-d0f4-fe8e1b3ae6c0"
      },
      "source": [
        "new3_df = new3_df.join(df, [\"day\"],how='left')\n",
        "new3_df.show(5)"
      ],
      "execution_count": 22,
      "outputs": [
        {
          "output_type": "stream",
          "text": [
            "+---+-------+---+----------+-------+---------+-------+-------+-------+----+--------+-----+--------+--------+-----+--------+--------+-------+\n",
            "|day|newdata|age|       job|marital|education|default|balance|housing|loan| contact|month|duration|campaign|pdays|previous|poutcome|deposit|\n",
            "+---+-------+---+----------+-------+---------+-------+-------+-------+----+--------+-----+--------+--------+-----+--------+--------+-------+\n",
            "|  5|    may| 35|   retired| single|  primary|     no|    434|     no|  no| unknown|  may|     138|       1|   -1|       0| unknown|     no|\n",
            "|  5|    may| 40|technician| single| tertiary|     no|     47|    yes|  no|cellular|  may|     159|       1|  365|       1| failure|     no|\n",
            "|  5|    may| 25|  services|married|secondary|     no|     50|    yes|  no| unknown|  may|     342|       1|   -1|       0| unknown|     no|\n",
            "|  5|    may| 33|    admin.| single| tertiary|     no|    193|     no|  no| unknown|  may|     132|       2|   -1|       0| unknown|     no|\n",
            "|  5|    may| 35|technician| single|  unknown|     no|    726|    yes|  no|cellular|  may|     163|       1|   -1|       0| unknown|     no|\n",
            "+---+-------+---+----------+-------+---------+-------+-------+-------+----+--------+-----+--------+--------+-----+--------+--------+-------+\n",
            "only showing top 5 rows\n",
            "\n"
          ],
          "name": "stdout"
        }
      ]
    },
    {
      "cell_type": "markdown",
      "metadata": {
        "id": "JTvfpvmAGtub"
      },
      "source": [
        "**SQL query** :  thực hiện truy vấn sql cho dataframe spark"
      ]
    },
    {
      "cell_type": "code",
      "metadata": {
        "colab": {
          "base_uri": "https://localhost:8080/"
        },
        "id": "ASvFOsynGdAc",
        "outputId": "078c3be5-2429-4c2c-b0e6-f5859620012f"
      },
      "source": [
        "from pyspark import SparkContext\n",
        "sc =SparkContext.getOrCreate()\n",
        "\n",
        "from pyspark.sql import SQLContext\n",
        "df.registerTempTable('table_dataframe')\n",
        "\n",
        "sqlContext = SQLContext(sc)\n",
        "sqlContext.sql('select * from table_dataframe').show()\n"
      ],
      "execution_count": 23,
      "outputs": [
        {
          "output_type": "stream",
          "text": [
            "+---+-----------+--------+---------+-------+-------+-------+----+-------+---+-----+--------+--------+-----+--------+--------+-------+\n",
            "|age|        job| marital|education|default|balance|housing|loan|contact|day|month|duration|campaign|pdays|previous|poutcome|deposit|\n",
            "+---+-----------+--------+---------+-------+-------+-------+----+-------+---+-----+--------+--------+-----+--------+--------+-------+\n",
            "| 59|     admin.| married|secondary|     no|   2343|    yes|  no|unknown|  5|  may|    1042|       1|   -1|       0| unknown|    yes|\n",
            "| 56|     admin.| married|secondary|     no|     45|     no|  no|unknown|  5|  may|    1467|       1|   -1|       0| unknown|    yes|\n",
            "| 41| technician| married|secondary|     no|   1270|    yes|  no|unknown|  5|  may|    1389|       1|   -1|       0| unknown|    yes|\n",
            "| 55|   services| married|secondary|     no|   2476|    yes|  no|unknown|  5|  may|     579|       1|   -1|       0| unknown|    yes|\n",
            "| 54|     admin.| married| tertiary|     no|    184|     no|  no|unknown|  5|  may|     673|       2|   -1|       0| unknown|    yes|\n",
            "| 42| management|  single| tertiary|     no|      0|    yes| yes|unknown|  5|  may|     562|       2|   -1|       0| unknown|    yes|\n",
            "| 56| management| married| tertiary|     no|    830|    yes| yes|unknown|  6|  may|    1201|       1|   -1|       0| unknown|    yes|\n",
            "| 60|    retired|divorced|secondary|     no|    545|    yes|  no|unknown|  6|  may|    1030|       1|   -1|       0| unknown|    yes|\n",
            "| 37| technician| married|secondary|     no|      1|    yes|  no|unknown|  6|  may|     608|       1|   -1|       0| unknown|    yes|\n",
            "| 28|   services|  single|secondary|     no|   5090|    yes|  no|unknown|  6|  may|    1297|       3|   -1|       0| unknown|    yes|\n",
            "| 38|     admin.|  single|secondary|     no|    100|    yes|  no|unknown|  7|  may|     786|       1|   -1|       0| unknown|    yes|\n",
            "| 30|blue-collar| married|secondary|     no|    309|    yes|  no|unknown|  7|  may|    1574|       2|   -1|       0| unknown|    yes|\n",
            "| 29| management| married| tertiary|     no|    199|    yes| yes|unknown|  7|  may|    1689|       4|   -1|       0| unknown|    yes|\n",
            "| 46|blue-collar|  single| tertiary|     no|    460|    yes|  no|unknown|  7|  may|    1102|       2|   -1|       0| unknown|    yes|\n",
            "| 31| technician|  single| tertiary|     no|    703|    yes|  no|unknown|  8|  may|     943|       2|   -1|       0| unknown|    yes|\n",
            "| 35| management|divorced| tertiary|     no|   3837|    yes|  no|unknown|  8|  may|    1084|       1|   -1|       0| unknown|    yes|\n",
            "| 32|blue-collar|  single|  primary|     no|    611|    yes|  no|unknown|  8|  may|     541|       3|   -1|       0| unknown|    yes|\n",
            "| 49|   services| married|secondary|     no|     -8|    yes|  no|unknown|  8|  may|    1119|       1|   -1|       0| unknown|    yes|\n",
            "| 41|     admin.| married|secondary|     no|     55|    yes|  no|unknown|  8|  may|    1120|       2|   -1|       0| unknown|    yes|\n",
            "| 49|     admin.|divorced|secondary|     no|    168|    yes| yes|unknown|  8|  may|     513|       1|   -1|       0| unknown|    yes|\n",
            "+---+-----------+--------+---------+-------+-------+-------+----+-------+---+-----+--------+--------+-----+--------+--------+-------+\n",
            "only showing top 20 rows\n",
            "\n"
          ],
          "name": "stdout"
        }
      ]
    },
    {
      "cell_type": "code",
      "metadata": {
        "id": "x-aNnpSaJO-R"
      },
      "source": [
        ""
      ],
      "execution_count": 23,
      "outputs": []
    }
  ]
}